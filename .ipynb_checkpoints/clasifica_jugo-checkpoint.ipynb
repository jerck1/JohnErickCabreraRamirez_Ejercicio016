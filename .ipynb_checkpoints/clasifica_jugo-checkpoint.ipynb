{
 "cells": [
  {
   "cell_type": "code",
   "execution_count": 1,
   "metadata": {},
   "outputs": [],
   "source": [
    "import numpy as np\n",
    "import pandas as pd\n",
    "import matplotlib.pyplot as plt\n",
    "from pandas.plotting import scatter_matrix\n",
    "\n",
    "%matplotlib inline"
   ]
  },
  {
   "cell_type": "code",
   "execution_count": 53,
   "metadata": {},
   "outputs": [],
   "source": [
    "import sklearn.metrics\n",
    "from sklearn.preprocessing import StandardScaler\n",
    "from sklearn.model_selection import train_test_split\n",
    "from sklearn.discriminant_analysis import LinearDiscriminantAnalysis\n",
    "from sklearn.svm import SVC\n",
    "from sklearn.metrics import f1_score\n",
    "#from sklearn import cross_validation\n",
    "#from sklearn.model_selection import cross_validate\n",
    "import sklearn.tree"
   ]
  },
  {
   "cell_type": "code",
   "execution_count": 30,
   "metadata": {
    "scrolled": true
   },
   "outputs": [],
   "source": [
    "# Carga datos\n",
    "data = pd.read_csv('OJ.csv')\n",
    "\n",
    "# Remueve datos que no se van a utilizar\n",
    "data = data.drop(['Store7', 'PctDiscCH','PctDiscMM'],axis=1)\n",
    "\n",
    "# Crea un nuevo array que sera el target, 0 si MM, 1 si CH\n",
    "purchasebin = np.ones(len(data), dtype=int)\n",
    "ii = np.array(data['Purchase']=='MM')\n",
    "purchasebin[ii] = 0\n",
    "\n",
    "data['Target'] = purchasebin\n",
    "\n",
    "# Borra la columna Purchase\n",
    "data = data.drop(['Purchase'],axis=1)\n",
    "\n",
    "# Crea un dataframe con los predictores\n",
    "predictors = list(data.keys())\n",
    "predictors.remove('Target')\n",
    "predictors.remove('Unnamed: 0')\n",
    "#print(predictors)\n",
    "#print(np.shape(data['Target']))\n",
    "#print(data)"
   ]
  },
  {
   "cell_type": "code",
   "execution_count": 31,
   "metadata": {},
   "outputs": [],
   "source": [
    "train, test, y_train, y_test = train_test_split(data, data[\"Target\"], train_size=0.5)"
   ]
  },
  {
   "cell_type": "code",
   "execution_count": 50,
   "metadata": {},
   "outputs": [],
   "source": [
    "def bootstrap_resample(X, n=None):\n",
    "    \"\"\" Bootstrap resample an array_like\n",
    "    Parameters\n",
    "    ----------\n",
    "    X : array_like\n",
    "      data to resample\n",
    "    n : int, optional\n",
    "      length of resampled array, equal to len(X) if n==None\n",
    "    Results\n",
    "    -------\n",
    "    returns X_resamples\n",
    "    \"\"\"\n",
    "    if n == None:\n",
    "        n = len(X)\n",
    "        \n",
    "    resample_i = np.floor(np.random.rand(n)*len(X)).astype(int)\n",
    "    X_resample = X[resample_i]\n",
    "    return X_resample"
   ]
  },
  {
   "cell_type": "code",
   "execution_count": 65,
   "metadata": {},
   "outputs": [
    {
     "name": "stdout",
     "output_type": "stream",
     "text": [
      "(535, 16)\n",
      "(535, 16)\n"
     ]
    }
   ],
   "source": [
    "train_ran=bootstrap_resample(np.array(train))\n",
    "print(np.shape(train))\n",
    "print(np.shape(train_ran))"
   ]
  },
  {
   "cell_type": "code",
   "execution_count": 120,
   "metadata": {
    "scrolled": false
   },
   "outputs": [],
   "source": [
    "N=16\n",
    "F1_score_av=np.zeros(10)\n",
    "Fea_imp_av=np.zeros((10,N))\n",
    "for i in range(100):\n",
    "    train_ran=bootstrap_resample(np.array(train))\n",
    "    F1_score=[]\n",
    "    Fea_imp=[]\n",
    "    for j in range(1,11):\n",
    "        clf = sklearn.tree.DecisionTreeClassifier(max_depth=j)\n",
    "    #    print(clf)\n",
    "        clf.fit(train_ran,y_train)\n",
    "    #    plt.figure(figsize=(10,10))\n",
    "    #    _= sklearn.tree.plot_tree(clf)\n",
    "        clf.predict(train_ran)\n",
    "        F1_score=np.append(F1_score,sklearn.metrics.f1_score(y_train, clf.predict(train_ran)))\n",
    "    #    print(\"f1: \",sklearn.metrics.f1_score(y_train, clf.predict(X)))\n",
    "        Fea_imp=np.append(Fea_imp,clf.feature_importances_)\n",
    "    #    print(\"imp \",clf.feature_importances_)\n",
    " #       print(np.shape(F1_score))\n",
    "  #      print(np.shape(Fea_imp))\n",
    "        F1_score_av[j-1]+= F1_score\n",
    "        Fea_imp_av[j-1]+=Fea_imp\n",
    "        F1_score=[]\n",
    "        Fea_imp=[]\n",
    "F1_score_av= F1_score_av/100\n",
    "Fea_imp_av=Fea_imp_av/100    "
   ]
  },
  {
   "cell_type": "code",
   "execution_count": 113,
   "metadata": {},
   "outputs": [
    {
     "name": "stdout",
     "output_type": "stream",
     "text": [
      "(10,)\n",
      "(10,)\n"
     ]
    }
   ],
   "source": [
    "print(np.shape(F1_score_av))\n",
    "print(np.shape(Fea_imp_av[:,0]))"
   ]
  },
  {
   "cell_type": "code",
   "execution_count": 121,
   "metadata": {},
   "outputs": [
    {
     "data": {
      "image/png": "[encoded data removed]",
      "text/plain": [
       "<Figure size 432x288 with 1 Axes>"
      ]
     },
     "metadata": {
      "needs_background": "light"
     },
     "output_type": "display_data"
    }
   ],
   "source": [
    "plt.scatter(np.arange(1,11),F1_score_av)\n",
    "plt.savefig(\"f1_score.png\")"
   ]
  },
  {
   "cell_type": "code",
   "execution_count": 127,
   "metadata": {},
   "outputs": [
    {
     "data": {
      "image/png": "[encoded data removed]",
      "text/plain": [
       "<Figure size 432x288 with 1 Axes>"
      ]
     },
     "metadata": {
      "needs_background": "light"
     },
     "output_type": "display_data"
    }
   ],
   "source": [
    "#plt.figure\n",
    "for i in range(N):\n",
    "    plt.scatter(np.arange(1,11),Fea_imp_av[:,0],label=\"{}\".format(i))\n",
    "#plt.savefig(\"fea_imp.png\")"
   ]
  },
  {
   "cell_type": "code",
   "execution_count": null,
   "metadata": {},
   "outputs": [],
   "source": []
  }
 ],
 "metadata": {
  "kernelspec": {
   "display_name": "Python 3",
   "language": "python",
   "name": "python3"
  },
  "language_info": {
   "codemirror_mode": {
    "name": "ipython",
    "version": 3
   },
   "file_extension": ".py",
   "mimetype": "text/x-python",
   "name": "python",
   "nbconvert_exporter": "python",
   "pygments_lexer": "ipython3",
   "version": "3.7.4"
  }
 },
 "nbformat": 4,
 "nbformat_minor": 2
}
