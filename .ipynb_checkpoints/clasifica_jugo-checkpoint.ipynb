{
 "cells": [
  {
   "cell_type": "code",
   "execution_count": 1,
   "metadata": {},
   "outputs": [],
   "source": [
    "import numpy as np\n",
    "import pandas as pd\n",
    "import matplotlib.pyplot as plt\n",
    "from pandas.plotting import scatter_matrix\n",
    "\n",
    "%matplotlib inline"
   ]
  },
  {
   "cell_type": "code",
   "execution_count": 53,
   "metadata": {},
   "outputs": [],
   "source": [
    "import sklearn.metrics\n",
    "from sklearn.preprocessing import StandardScaler\n",
    "from sklearn.model_selection import train_test_split\n",
    "from sklearn.discriminant_analysis import LinearDiscriminantAnalysis\n",
    "from sklearn.svm import SVC\n",
    "from sklearn.metrics import f1_score\n",
    "#from sklearn import cross_validation\n",
    "#from sklearn.model_selection import cross_validate\n",
    "import sklearn.tree"
   ]
  },
  {
   "cell_type": "code",
   "execution_count": 30,
   "metadata": {
    "scrolled": true
   },
   "outputs": [],
   "source": [
    "# Carga datos\n",
    "data = pd.read_csv('OJ.csv')\n",
    "\n",
    "# Remueve datos que no se van a utilizar\n",
    "data = data.drop(['Store7', 'PctDiscCH','PctDiscMM'],axis=1)\n",
    "\n",
    "# Crea un nuevo array que sera el target, 0 si MM, 1 si CH\n",
    "purchasebin = np.ones(len(data), dtype=int)\n",
    "ii = np.array(data['Purchase']=='MM')\n",
    "purchasebin[ii] = 0\n",
    "\n",
    "data['Target'] = purchasebin\n",
    "\n",
    "# Borra la columna Purchase\n",
    "data = data.drop(['Purchase'],axis=1)\n",
    "\n",
    "# Crea un dataframe con los predictores\n",
    "predictors = list(data.keys())\n",
    "predictors.remove('Target')\n",
    "predictors.remove('Unnamed: 0')\n",
    "#print(predictors)\n",
    "#print(np.shape(data['Target']))\n",
    "#print(data)"
   ]
  },
  {
   "cell_type": "code",
   "execution_count": 31,
   "metadata": {},
   "outputs": [],
   "source": [
    "train, test, y_train, y_test = train_test_split(data, data[\"Target\"], train_size=0.5)"
   ]
  },
  {
   "cell_type": "code",
   "execution_count": 50,
   "metadata": {},
   "outputs": [],
   "source": [
    "def bootstrap_resample(X, n=None):\n",
    "    \"\"\" Bootstrap resample an array_like\n",
    "    Parameters\n",
    "    ----------\n",
    "    X : array_like\n",
    "      data to resample\n",
    "    n : int, optional\n",
    "      length of resampled array, equal to len(X) if n==None\n",
    "    Results\n",
    "    -------\n",
    "    returns X_resamples\n",
    "    \"\"\"\n",
    "    if n == None:\n",
    "        n = len(X)\n",
    "        \n",
    "    resample_i = np.floor(np.random.rand(n)*len(X)).astype(int)\n",
    "    X_resample = X[resample_i]\n",
    "    return X_resample"
   ]
  },
  {
   "cell_type": "code",
   "execution_count": 65,
   "metadata": {},
   "outputs": [
    {
     "name": "stdout",
     "output_type": "stream",
     "text": [
      "(535, 16)\n",
      "(535, 16)\n"
     ]
    }
   ],
   "source": [
    "train_ran=bootstrap_resample(np.array(train))\n",
    "print(np.shape(train))\n",
    "print(np.shape(train_ran))"
   ]
  },
  {
   "cell_type": "code",
   "execution_count": 86,
   "metadata": {},
   "outputs": [],
   "source": [
    "F1_score=[]\n",
    "Fea_imp=[]"
   ]
  },
  {
   "cell_type": "code",
   "execution_count": 87,
   "metadata": {
    "scrolled": false
   },
   "outputs": [
    {
     "name": "stdout",
     "output_type": "stream",
     "text": [
      "imp  [0. 0. 0. 0. 0. 0. 0. 0. 0. 0. 0. 0. 1. 0. 0. 0.]\n",
      "imp  [0.11798061 0.         0.         0.         0.         0.\n",
      " 0.88201939 0.         0.         0.         0.         0.\n",
      " 0.         0.         0.         0.        ]\n",
      "imp  [0.15171465 0.         0.         0.         0.         0.\n",
      " 0.15843852 0.         0.         0.28807601 0.         0.05791773\n",
      " 0.23157193 0.11228117 0.         0.        ]\n",
      "imp  [0.22317376 0.         0.         0.         0.         0.\n",
      " 0.22979215 0.15891351 0.         0.28784025 0.         0.\n",
      " 0.03412483 0.06615549 0.         0.        ]\n",
      "imp  [0.20868753 0.10646512 0.04065366 0.         0.         0.\n",
      " 0.06499766 0.11064679 0.         0.29118711 0.         0.\n",
      " 0.09499984 0.04606212 0.03630017 0.        ]\n",
      "imp  [0.36805612 0.0732122  0.02496231 0.01633897 0.00960089 0.\n",
      " 0.04469653 0.07608778 0.         0.23521409 0.         0.\n",
      " 0.06532794 0.05039698 0.         0.0361062 ]\n",
      "imp  [0.3568381  0.10077367 0.00272476 0.01255571 0.         0.\n",
      " 0.03434712 0.06943615 0.         0.29888711 0.         0.01918233\n",
      " 0.05020136 0.02434089 0.01632606 0.01438675]\n",
      "imp  [0.35931326 0.10467409 0.         0.05241119 0.01017518 0.\n",
      " 0.06834035 0.05418696 0.         0.26650376 0.01389874 0.\n",
      " 0.00685393 0.0256552  0.01550503 0.0224823 ]\n",
      "imp  [0.30983135 0.12843282 0.02826688 0.02526518 0.01983322 0.\n",
      " 0.02529507 0.04469082 0.         0.28139944 0.008392   0.\n",
      " 0.05584518 0.05248427 0.00172144 0.01854233]\n",
      "imp  [0.30457025 0.11161105 0.01910467 0.03305895 0.01748364 0.00496355\n",
      " 0.02112886 0.03854804 0.         0.28083895 0.01712594 0.00615846\n",
      " 0.04221547 0.05121867 0.03219668 0.01977681]\n"
     ]
    }
   ],
   "source": [
    "for i in range(1,11):\n",
    "    clf = sklearn.tree.DecisionTreeClassifier(max_depth=i)\n",
    "#    print(clf)\n",
    "    clf.fit(train_ran,y_train)\n",
    "#    plt.figure(figsize=(10,10))\n",
    "#    _= sklearn.tree.plot_tree(clf)\n",
    "    clf.predict(train_ran)\n",
    "    F1_score=np.append(F1_score,sklearn.metrics.f1_score(y_train, clf.predict(X)))\n",
    "#    print(\"f1: \",sklearn.metrics.f1_score(y_train, clf.predict(X)))\n",
    "    Fea_imp=np.append(Fea_imp,clf.feature_importances_)\n",
    "#    print(\"imp \",clf.feature_importances_)"
   ]
  },
  {
   "cell_type": "code",
   "execution_count": null,
   "metadata": {},
   "outputs": [],
   "source": []
  }
 ],
 "metadata": {
  "kernelspec": {
   "display_name": "Python 3",
   "language": "python",
   "name": "python3"
  },
  "language_info": {
   "codemirror_mode": {
    "name": "ipython",
    "version": 3
   },
   "file_extension": ".py",
   "mimetype": "text/x-python",
   "name": "python",
   "nbconvert_exporter": "python",
   "pygments_lexer": "ipython3",
   "version": "3.7.4"
  }
 },
 "nbformat": 4,
 "nbformat_minor": 2
}
